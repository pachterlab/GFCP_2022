{
  "cells": [
    {
      "cell_type": "markdown",
      "metadata": {
        "id": "view-in-github",
        "colab_type": "text"
      },
      "source": [
        "<a href=\"https://colab.research.google.com/github/pachterlab/GFCP_2022/blob/main/notebooks/abcd_sim.ipynb\" target=\"_parent\"><img src=\"https://colab.research.google.com/assets/colab-badge.svg\" alt=\"Open In Colab\"/></a>"
      ]
    },
    {
      "cell_type": "markdown",
      "source": [
        "# Figure __:  Sampling cell observations from 'true' process time"
      ],
      "metadata": {
        "id": "sIJGg7942-02"
      }
    },
    {
      "cell_type": "markdown",
      "source": [
        "In this notebook, we simulate a system with the bifurcating topology $AB(C/D)$, plot the expression over observed process times, and visualize the corresponding 'pseudotime' assignments for each cell."
      ],
      "metadata": {
        "id": "fiIfLij63F3X"
      }
    },
    {
      "cell_type": "markdown",
      "metadata": {
        "id": "tnXJwv1FKAxj"
      },
      "source": [
        "# Dependencies\n"
      ]
    },
    {
      "cell_type": "code",
      "source": [
        "import time\n",
        "t1 = time.time()"
      ],
      "metadata": {
        "id": "mMN5lDqfMdlh"
      },
      "execution_count": 1,
      "outputs": []
    },
    {
      "cell_type": "code",
      "execution_count": 2,
      "metadata": {
        "id": "kFfWaGRGY7IP"
      },
      "outputs": [],
      "source": [
        "## uncomment this cell if run in colab ##\n",
        "\n",
        "%%capture\n",
        "!pip install --upgrade git+https://github.com/meichenfang/velocyto.py.git\n",
        "!pip install scanpy umap-learn\n",
        "\n"
      ]
    },
    {
      "cell_type": "code",
      "source": [
        "!git clone https://github.com/pachterlab/GFCP_2022.git"
      ],
      "metadata": {
        "colab": {
          "base_uri": "https://localhost:8080/"
        },
        "id": "1FLeXgKj20Uy",
        "outputId": "de16d1d0-cdb3-40ce-c642-d4f4d2bcf595"
      },
      "execution_count": 3,
      "outputs": [
        {
          "output_type": "stream",
          "name": "stdout",
          "text": [
            "Cloning into 'GFCP_2022'...\n",
            "remote: Enumerating objects: 962, done.\u001b[K\n",
            "remote: Counting objects: 100% (962/962), done.\u001b[K\n",
            "remote: Compressing objects: 100% (785/785), done.\u001b[K\n",
            "remote: Total 962 (delta 450), reused 482 (delta 161), pack-reused 0\u001b[K\n",
            "Receiving objects: 100% (962/962), 264.68 MiB | 29.87 MiB/s, done.\n",
            "Resolving deltas: 100% (450/450), done.\n"
          ]
        }
      ]
    },
    {
      "cell_type": "code",
      "source": [
        "%cd GFCP_2022"
      ],
      "metadata": {
        "colab": {
          "base_uri": "https://localhost:8080/"
        },
        "id": "MHer8PoC2fzw",
        "outputId": "15729669-5262-458a-b248-59fcad8801f2"
      },
      "execution_count": 4,
      "outputs": [
        {
          "output_type": "stream",
          "name": "stdout",
          "text": [
            "/content/GFCP_2022\n"
          ]
        }
      ]
    },
    {
      "cell_type": "code",
      "source": [
        "from vis import * "
      ],
      "metadata": {
        "colab": {
          "base_uri": "https://localhost:8080/"
        },
        "id": "qjmFGDFyk6Ss",
        "outputId": "d40cc08d-60b2-42b1-abca-bf0a398e9222"
      },
      "execution_count": 5,
      "outputs": [
        {
          "output_type": "stream",
          "name": "stderr",
          "text": [
            "/usr/local/lib/python3.7/dist-packages/numba/np/ufunc/parallel.py:363: NumbaWarning: The TBB threading layer requires TBB version 2019.5 or later i.e., TBB_INTERFACE_VERSION >= 11005. Found TBB_INTERFACE_VERSION = 9107. The TBB threading layer is disabled.\n",
            "  warnings.warn(problem)\n"
          ]
        }
      ]
    },
    {
      "cell_type": "code",
      "source": [
        ""
      ],
      "metadata": {
        "id": "S5N_A1822eUN"
      },
      "execution_count": null,
      "outputs": []
    },
    {
      "cell_type": "code",
      "execution_count": null,
      "metadata": {
        "id": "R5F0g5IzLXXs"
      },
      "outputs": [],
      "source": [
        "## run locally ##\n",
        "# %cd ../../GFCP_2021\n",
        "# from vis import * \n",
        "# %cd notebooks"
      ]
    },
    {
      "cell_type": "code",
      "source": [
        "import warnings\n",
        "warnings.filterwarnings(\"ignore\")\n"
      ],
      "metadata": {
        "id": "TmQHc4dAiq3P"
      },
      "execution_count": 6,
      "outputs": []
    },
    {
      "cell_type": "code",
      "execution_count": 7,
      "metadata": {
        "id": "VSTDpqhyLXXt"
      },
      "outputs": [],
      "source": [
        "from os.path import exists\n",
        "\n",
        "plt.rcParams.update({'font.size': 22})"
      ]
    },
    {
      "cell_type": "markdown",
      "metadata": {
        "id": "QSe2ruY56L-g"
      },
      "source": [
        "# Simulations"
      ]
    },
    {
      "cell_type": "markdown",
      "metadata": {
        "id": "9_5jxetn6O-r"
      },
      "source": [
        "Generate or load simulation data"
      ]
    },
    {
      "cell_type": "code",
      "source": [
        "!mkdir -p data"
      ],
      "metadata": {
        "id": "GLp_kOugME-y"
      },
      "execution_count": 8,
      "outputs": []
    },
    {
      "cell_type": "code",
      "source": [
        "nCells,nGenes,T,tau,topo =  2000,100,10,[0,3,7],\"ab(c/d)\"\n",
        "topo_ = 'abcd'\n",
        "\n",
        "meta = nCells,nGenes,T,tau,topo\n",
        "filename=\"data/simdata_\"+topo_\n",
        "\n",
        "tsim_ = time.time()\n",
        "\n",
        "from numpy.random import MT19937\n",
        "from numpy.random import RandomState, SeedSequence\n",
        "rs = RandomState(MT19937(SeedSequence(2812)))\n",
        "\n",
        "\n",
        "szfig = [1,1]\n",
        "N = np.prod(szfig)\n",
        "for i_ in range(N):\n",
        "    simdata = simulate_occup_meas(nCells,nGenes,T,tau,topo,seed=18)\n",
        "    sim_export(simdata,meta,filename+str(i_))\n",
        "\n",
        "dtime = time.time()-tsim_\n",
        "print('Sim runtime: {:.1f} seconds.'.format(dtime))\n"
      ],
      "metadata": {
        "colab": {
          "base_uri": "https://localhost:8080/"
        },
        "id": "elCsqM2Eg_T9",
        "outputId": "2d4b440d-4297-45e0-a8db-d1158ee4efb6"
      },
      "execution_count": 9,
      "outputs": [
        {
          "output_type": "stream",
          "name": "stdout",
          "text": [
            "Sim runtime: 18.3 seconds.\n"
          ]
        }
      ]
    },
    {
      "cell_type": "markdown",
      "source": [
        "Plot expression over observed time"
      ],
      "metadata": {
        "id": "x9IEALC14K49"
      }
    },
    {
      "cell_type": "code",
      "source": [
        "import seaborn as sns\n",
        "import matplotlib\n",
        "%matplotlib inline"
      ],
      "metadata": {
        "id": "gpYV8s---TfX"
      },
      "execution_count": 10,
      "outputs": []
    },
    {
      "cell_type": "code",
      "source": [
        "def getXtheo(vlm,geneind,meta):\n",
        "  nCells,nGenes,T,tau,topo = meta\n",
        "  j=geneind\n",
        "\n",
        "  tvec = vlm.ca['time']\n",
        "  gamma = vlm.ra['gamma']\n",
        "  beta = vlm.ra['beta']\n",
        "  dict_nk = {\"aba\":2,\"ab(a/c)\":3,\"ab(c/d)\":4}\n",
        "  dict_Kval = {\"aba\":[0],\"ab(a/c)\":[0,2],\"ab(c/d)\":[2,3]}\n",
        "  n_K = dict_nk[topo]\n",
        "  K = np.vstack([vlm.ra['k'+str(i)] for i in range(n_K)]).T\n",
        "\n",
        "  branches = dict_Kval[topo]\n",
        "  n_branches = len(branches)\n",
        "\n",
        "  i=0\n",
        "  Xtheo = [eval_x(get_cell_spec_K(K[j],branches[i]),tau,t,beta[j],gamma[j]) for t in tvec]\n",
        "  Xtheo = np.asarray(Xtheo)\n",
        "  Xtheo[np.isnan(Xtheo)]=0\n",
        "  Xtheo[np.isinf(Xtheo)]=0\n",
        "\n",
        "  return Xtheo ,tvec"
      ],
      "metadata": {
        "id": "4twht2du6ih_"
      },
      "execution_count": 11,
      "outputs": []
    },
    {
      "cell_type": "code",
      "source": [
        "def addJitter(Xtheo,celltype,ind=1):\n",
        "  types = np.unique(celltype)\n",
        "  for i in types:\n",
        "    if i < 3:\n",
        "      Xtheo[celltype == i,ind] = Xtheo[celltype == i,ind] + np.random.normal(0,1,Xtheo[celltype == i,ind].shape[0])\n",
        "    else:\n",
        "      Xtheo[celltype == i,ind] = Xtheo[celltype == i,ind] + np.random.normal(-1,1,Xtheo[celltype == i,ind].shape[0])\n",
        "\n",
        "  return Xtheo"
      ],
      "metadata": {
        "id": "CkhIYD1H_PH7"
      },
      "execution_count": 12,
      "outputs": []
    },
    {
      "cell_type": "code",
      "source": [
        "#Get X theoretical (not imputed values by velocity)\n",
        "vlm = vcy.VelocytoLoom(loom_filepath=filename+str(0)+'.loom')\n",
        "tvec = vlm.ca['time']\n",
        "tvec"
      ],
      "metadata": {
        "colab": {
          "base_uri": "https://localhost:8080/"
        },
        "id": "7ZIDLczo5YLv",
        "outputId": "c467b596-8648-43f3-e06a-602be62f1105"
      },
      "execution_count": 13,
      "outputs": [
        {
          "output_type": "execute_result",
          "data": {
            "text/plain": [
              "array([6.50374242, 5.05453374, 8.78601471, ..., 6.58106837, 2.92963902,\n",
              "       9.8477949 ])"
            ]
          },
          "metadata": {},
          "execution_count": 13
        }
      ]
    },
    {
      "cell_type": "code",
      "source": [
        "geneind = 8"
      ],
      "metadata": {
        "id": "ouNAPAKh4HjZ"
      },
      "execution_count": 14,
      "outputs": []
    },
    {
      "cell_type": "code",
      "source": [
        "#for i in geneind:\n",
        "\n",
        "from matplotlib.ticker import (MultipleLocator, FormatStrFormatter,\n",
        "                               AutoMinorLocator)\n",
        "import random\n",
        "from matplotlib import cm\n",
        "\n",
        "X, t = getXtheo(vlm,geneind,meta)\n",
        "#Add jitter\n",
        "X[:,1] = X[:,1] + np.random.normal(0,0.5,X.shape[0])\n",
        "X[vlm.ca['celltype'] == 3,1] = -1*X[vlm.ca['celltype'] == 3,1]\n",
        "\n",
        "\n",
        "fig, ax = plt.subplots(nrows = 1, ncols = 1, figsize=(8,3))\n",
        "names = ['Cell Group '+str(i) for i in vlm.ca['celltype']]\n",
        "sns.scatterplot(t,X[:,1] + 5,hue=pd.Categorical(names),alpha=0.7,palette=sns.color_palette(\"rocket\")[::-1][0:4])\n",
        "\n",
        "# ---- Figure aesthetics ---\n",
        "handles, labels = plt.gca().get_legend_handles_labels()\n",
        "by_label = dict(zip(labels, handles))\n",
        "ax.legend(by_label.values(), by_label.keys(),loc='center left',bbox_to_anchor=(1, 0.5),prop={'size': 10},frameon=False,ncol=1)\n",
        "\n",
        "# Hide the right and top spines\n",
        "ax.spines['right'].set_visible(False)\n",
        "ax.spines['top'].set_visible(False)\n",
        "\n",
        "ax.set_xlabel('Sampled Process Times (t)',fontsize=12)\n",
        "ax.set_ylabel('Expression (a.u.)',fontsize=12)\n",
        "\n",
        "\n",
        "samp = random.sample(list(t),int(len(t)/5))\n",
        "\n",
        "ax.xaxis.set_minor_locator(matplotlib.ticker.FixedLocator(samp))\n",
        "\n",
        "# We change the fontsize of minor ticks label \n",
        "ax.tick_params(axis='both', which='major', labelsize=12)\n",
        "ax.tick_params(axis='both', which='minor', size=3, direction='in')\n",
        "\n",
        "fig.tight_layout()\n",
        "plt.savefig('observedTimes.pdf')"
      ],
      "metadata": {
        "colab": {
          "base_uri": "https://localhost:8080/",
          "height": 225
        },
        "id": "phtNYtgQ9ARc",
        "outputId": "ecb8f9c3-6e77-4afc-c60d-91c921bef53f"
      },
      "execution_count": 15,
      "outputs": [
        {
          "output_type": "display_data",
          "data": {
            "text/plain": [
              "<Figure size 576x216 with 1 Axes>"
            ],
            "image/png": "[encoded data removed]"
          },
          "metadata": {
            "needs_background": "light"
          }
        }
      ]
    },
    {
      "cell_type": "markdown",
      "source": [
        "Make pseudotime image for cells"
      ],
      "metadata": {
        "id": "qMNE5USSMHjn"
      }
    },
    {
      "cell_type": "code",
      "source": [
        "#Find min time and 'root' cell\n",
        "\n",
        "m = X[t==np.min(t),1]\n",
        "\n",
        "#Get euclidean distance of all cells from that cell\n",
        "dists = (X[:,1]-m)**2\n",
        "dists.shape"
      ],
      "metadata": {
        "colab": {
          "base_uri": "https://localhost:8080/"
        },
        "id": "aEHxjtDvH_Bf",
        "outputId": "0f455b62-d495-40d5-ac91-5476afddd5dc"
      },
      "execution_count": 16,
      "outputs": [
        {
          "output_type": "execute_result",
          "data": {
            "text/plain": [
              "(2000,)"
            ]
          },
          "metadata": {},
          "execution_count": 16
        }
      ]
    },
    {
      "cell_type": "code",
      "source": [
        "dists = (dists-np.min(dists))/np.max(dists) #0 to 1 like pseudotime"
      ],
      "metadata": {
        "id": "18NGI6KBNglg"
      },
      "execution_count": 17,
      "outputs": []
    },
    {
      "cell_type": "code",
      "source": [
        "fig, ax = plt.subplots(nrows = 1, ncols = 1, figsize=(8,1.5))\n",
        "names = ['Cell Group '+str(i) for i in vlm.ca['celltype']]\n",
        "#ys = [0]*len(names) + np.random.normal(0,0.05,len(names))\n",
        "sns.scatterplot(dists ,\n",
        "                vlm.ca['celltype']*-1,hue=pd.Categorical(names),\n",
        "                alpha=0.7,palette=sns.color_palette(\"rocket\")[::-1][0:4],\n",
        "                s=70) #np.random.normal(0,0.02,len(names))**2\n",
        "\n",
        "\n",
        "# ---- Figure aesthetics ---\n",
        "\n",
        "handles, labels = plt.gca().get_legend_handles_labels()\n",
        "by_label = dict(zip(labels, handles))\n",
        "ax.legend(by_label.values(), by_label.keys(),loc='center left',bbox_to_anchor=(1, 0.5),prop={'size': 10},frameon=False,ncol=1)\n",
        "\n",
        "# Hide the right and top spines\n",
        "ax.spines['right'].set_visible(False)\n",
        "ax.spines['top'].set_visible(False)\n",
        "\n",
        "ax.set_xlabel('Pseudotime',fontsize=12)\n",
        "\n",
        "\n",
        "#fig.tight_layout()\n",
        "plt.savefig('pseudotime.pdf')"
      ],
      "metadata": {
        "colab": {
          "base_uri": "https://localhost:8080/",
          "height": 147
        },
        "id": "Zee5slTqJ06C",
        "outputId": "c749218b-8ff5-4bb8-d5ba-8cc5f3db8e2f"
      },
      "execution_count": 20,
      "outputs": [
        {
          "output_type": "display_data",
          "data": {
            "text/plain": [
              "<Figure size 576x108 with 1 Axes>"
            ],
            "image/png": "[encoded data removed]"
          },
          "metadata": {
            "needs_background": "light"
          }
        }
      ]
    },
    {
      "cell_type": "code",
      "source": [
        ""
      ],
      "metadata": {
        "id": "0N1nbnKWM0Qj"
      },
      "execution_count": null,
      "outputs": []
    }
  ],
  "metadata": {
    "colab": {
      "collapsed_sections": [],
      "name": "abcd_sim.ipynb",
      "provenance": [],
      "include_colab_link": true
    },
    "kernelspec": {
      "display_name": "Python 3",
      "language": "python",
      "name": "python3"
    },
    "language_info": {
      "codemirror_mode": {
        "name": "ipython",
        "version": 3
      },
      "file_extension": ".py",
      "mimetype": "text/x-python",
      "name": "python",
      "nbconvert_exporter": "python",
      "pygments_lexer": "ipython3",
      "version": "3.7.4"
    }
  },
  "nbformat": 4,
  "nbformat_minor": 0
}