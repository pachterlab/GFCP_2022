{
  "cells": [
    {
      "cell_type": "markdown",
      "metadata": {
        "id": "view-in-github",
        "colab_type": "text"
      },
      "source": [
        "<a href=\"https://colab.research.google.com/github/pachterlab/GFCP_2022/blob/main/notebooks/abcd_sim.ipynb\" target=\"_parent\"><img src=\"https://colab.research.google.com/assets/colab-badge.svg\" alt=\"Open In Colab\"/></a>"
      ]
    },
    {
      "cell_type": "markdown",
      "source": [
        "# Figure __:  Sampling cell observations from 'true' process time"
      ],
      "metadata": {
        "id": "sIJGg7942-02"
      }
    },
    {
      "cell_type": "markdown",
      "source": [
        "In this notebook, we simulate a system with the bifurcating topology $AB(C/D)$, plot the expression over observed process times, and visualize the corresponding 'pseudotime' assignments for each cell."
      ],
      "metadata": {
        "id": "fiIfLij63F3X"
      }
    },
    {
      "cell_type": "markdown",
      "metadata": {
        "id": "tnXJwv1FKAxj"
      },
      "source": [
        "# Dependencies\n"
      ]
    },
    {
      "cell_type": "code",
      "source": [
        "import time\n",
        "t1 = time.time()"
      ],
      "metadata": {
        "id": "mMN5lDqfMdlh"
      },
      "execution_count": 1,
      "outputs": []
    },
    {
      "cell_type": "code",
      "execution_count": 2,
      "metadata": {
        "id": "kFfWaGRGY7IP"
      },
      "outputs": [],
      "source": [
        "## uncomment this cell if run in colab ##\n",
        "\n",
        "%%capture\n",
        "!pip install --upgrade git+https://github.com/meichenfang/velocyto.py.git\n",
        "!pip install scanpy umap-learn\n",
        "\n"
      ]
    },
    {
      "cell_type": "code",
      "source": [
        "!git clone https://github.com/pachterlab/GFCP_2022.git"
      ],
      "metadata": {
        "colab": {
          "base_uri": "https://localhost:8080/"
        },
        "id": "1FLeXgKj20Uy",
        "outputId": "cadf6d2d-0d43-4363-c299-f253778b5476"
      },
      "execution_count": 3,
      "outputs": [
        {
          "output_type": "stream",
          "name": "stdout",
          "text": [
            "Cloning into 'GFCP_2022'...\n",
            "remote: Enumerating objects: 958, done.\u001b[K\n",
            "remote: Counting objects: 100% (958/958), done.\u001b[K\n",
            "remote: Compressing objects: 100% (781/781), done.\u001b[K\n",
            "remote: Total 958 (delta 448), reused 482 (delta 161), pack-reused 0\u001b[K\n",
            "Receiving objects: 100% (958/958), 264.61 MiB | 36.80 MiB/s, done.\n",
            "Resolving deltas: 100% (448/448), done.\n"
          ]
        }
      ]
    },
    {
      "cell_type": "code",
      "source": [
        "%cd GFCP_2022"
      ],
      "metadata": {
        "colab": {
          "base_uri": "https://localhost:8080/"
        },
        "id": "MHer8PoC2fzw",
        "outputId": "9a473174-ed2b-4d16-ef1f-3ed986693a9b"
      },
      "execution_count": 4,
      "outputs": [
        {
          "output_type": "stream",
          "name": "stdout",
          "text": [
            "/content/GFCP_2022\n"
          ]
        }
      ]
    },
    {
      "cell_type": "code",
      "source": [
        "from vis import * "
      ],
      "metadata": {
        "colab": {
          "base_uri": "https://localhost:8080/"
        },
        "id": "qjmFGDFyk6Ss",
        "outputId": "a49b0fd0-270e-4f62-b9fd-453918ff348e"
      },
      "execution_count": 5,
      "outputs": [
        {
          "output_type": "stream",
          "name": "stderr",
          "text": [
            "/usr/local/lib/python3.7/dist-packages/numba/np/ufunc/parallel.py:363: NumbaWarning: The TBB threading layer requires TBB version 2019.5 or later i.e., TBB_INTERFACE_VERSION >= 11005. Found TBB_INTERFACE_VERSION = 9107. The TBB threading layer is disabled.\n",
            "  warnings.warn(problem)\n"
          ]
        }
      ]
    },
    {
      "cell_type": "code",
      "source": [
        ""
      ],
      "metadata": {
        "id": "S5N_A1822eUN"
      },
      "execution_count": null,
      "outputs": []
    },
    {
      "cell_type": "code",
      "execution_count": null,
      "metadata": {
        "id": "R5F0g5IzLXXs"
      },
      "outputs": [],
      "source": [
        "## run locally ##\n",
        "# %cd ../../GFCP_2021\n",
        "# from vis import * \n",
        "# %cd notebooks"
      ]
    },
    {
      "cell_type": "code",
      "source": [
        "import warnings\n",
        "warnings.filterwarnings(\"ignore\")\n"
      ],
      "metadata": {
        "id": "TmQHc4dAiq3P"
      },
      "execution_count": 6,
      "outputs": []
    },
    {
      "cell_type": "code",
      "execution_count": 7,
      "metadata": {
        "id": "VSTDpqhyLXXt"
      },
      "outputs": [],
      "source": [
        "from os.path import exists\n",
        "\n",
        "plt.rcParams.update({'font.size': 22})"
      ]
    },
    {
      "cell_type": "markdown",
      "metadata": {
        "id": "QSe2ruY56L-g"
      },
      "source": [
        "# Simulations"
      ]
    },
    {
      "cell_type": "markdown",
      "metadata": {
        "id": "9_5jxetn6O-r"
      },
      "source": [
        "Generate or load simulation data"
      ]
    },
    {
      "cell_type": "code",
      "source": [
        "!mkdir -p data"
      ],
      "metadata": {
        "id": "GLp_kOugME-y"
      },
      "execution_count": 8,
      "outputs": []
    },
    {
      "cell_type": "code",
      "source": [
        "nCells,nGenes,T,tau,topo =  2000,100,10,[0,3,7],\"ab(c/d)\"\n",
        "topo_ = 'abcd'\n",
        "\n",
        "meta = nCells,nGenes,T,tau,topo\n",
        "filename=\"data/simdata_\"+topo_\n",
        "\n",
        "tsim_ = time.time()\n",
        "\n",
        "from numpy.random import MT19937\n",
        "from numpy.random import RandomState, SeedSequence\n",
        "rs = RandomState(MT19937(SeedSequence(2812)))\n",
        "\n",
        "\n",
        "szfig = [1,1]\n",
        "N = np.prod(szfig)\n",
        "for i_ in range(N):\n",
        "    simdata = simulate_occup_meas(nCells,nGenes,T,tau,topo,seed=18)\n",
        "    sim_export(simdata,meta,filename+str(i_))\n",
        "\n",
        "dtime = time.time()-tsim_\n",
        "print('Sim runtime: {:.1f} seconds.'.format(dtime))\n"
      ],
      "metadata": {
        "colab": {
          "base_uri": "https://localhost:8080/"
        },
        "id": "elCsqM2Eg_T9",
        "outputId": "5de40b76-2919-4dcc-f10b-509d534fbcdd"
      },
      "execution_count": 9,
      "outputs": [
        {
          "output_type": "stream",
          "name": "stdout",
          "text": [
            "Sim runtime: 12.8 seconds.\n"
          ]
        }
      ]
    },
    {
      "cell_type": "markdown",
      "source": [
        "Plot expression over observed time"
      ],
      "metadata": {
        "id": "x9IEALC14K49"
      }
    },
    {
      "cell_type": "code",
      "source": [
        "import seaborn as sns\n",
        "import matplotlib\n",
        "%matplotlib inline"
      ],
      "metadata": {
        "id": "gpYV8s---TfX"
      },
      "execution_count": 90,
      "outputs": []
    },
    {
      "cell_type": "code",
      "source": [
        "def getXtheo(vlm,geneind,meta):\n",
        "  nCells,nGenes,T,tau,topo = meta\n",
        "  j=geneind\n",
        "\n",
        "  tvec = vlm.ca['time']\n",
        "  gamma = vlm.ra['gamma']\n",
        "  beta = vlm.ra['beta']\n",
        "  dict_nk = {\"aba\":2,\"ab(a/c)\":3,\"ab(c/d)\":4}\n",
        "  dict_Kval = {\"aba\":[0],\"ab(a/c)\":[0,2],\"ab(c/d)\":[2,3]}\n",
        "  n_K = dict_nk[topo]\n",
        "  K = np.vstack([vlm.ra['k'+str(i)] for i in range(n_K)]).T\n",
        "\n",
        "  branches = dict_Kval[topo]\n",
        "  n_branches = len(branches)\n",
        "\n",
        "  i=0\n",
        "  Xtheo = [eval_x(get_cell_spec_K(K[j],branches[i]),tau,t,beta[j],gamma[j]) for t in tvec]\n",
        "  Xtheo = np.asarray(Xtheo)\n",
        "  Xtheo[np.isnan(Xtheo)]=0\n",
        "  Xtheo[np.isinf(Xtheo)]=0\n",
        "\n",
        "  return Xtheo ,tvec"
      ],
      "metadata": {
        "id": "4twht2du6ih_"
      },
      "execution_count": 50,
      "outputs": []
    },
    {
      "cell_type": "code",
      "source": [
        "def addJitter(Xtheo,celltype,ind=1):\n",
        "  types = np.unique(celltype)\n",
        "  for i in types:\n",
        "    if i < 3:\n",
        "      Xtheo[celltype == i,ind] = Xtheo[celltype == i,ind] + np.random.normal(0,1,Xtheo[celltype == i,ind].shape[0])\n",
        "    else:\n",
        "      Xtheo[celltype == i,ind] = Xtheo[celltype == i,ind] + np.random.normal(-1,1,Xtheo[celltype == i,ind].shape[0])\n",
        "\n",
        "  return Xtheo"
      ],
      "metadata": {
        "id": "CkhIYD1H_PH7"
      },
      "execution_count": 61,
      "outputs": []
    },
    {
      "cell_type": "code",
      "source": [
        "#Get X theoretical (not imputed values by velocity)\n",
        "vlm = vcy.VelocytoLoom(loom_filepath=filename+str(0)+'.loom')\n",
        "tvec = vlm.ca['time']\n",
        "tvec"
      ],
      "metadata": {
        "colab": {
          "base_uri": "https://localhost:8080/"
        },
        "id": "7ZIDLczo5YLv",
        "outputId": "13fe9496-fe7b-4989-e488-8b589634a6e5"
      },
      "execution_count": 22,
      "outputs": [
        {
          "output_type": "execute_result",
          "data": {
            "text/plain": [
              "array([6.50374242, 5.05453374, 8.78601471, ..., 6.58106837, 2.92963902,\n",
              "       9.8477949 ])"
            ]
          },
          "metadata": {},
          "execution_count": 22
        }
      ]
    },
    {
      "cell_type": "code",
      "source": [
        "geneind = 8"
      ],
      "metadata": {
        "id": "ouNAPAKh4HjZ"
      },
      "execution_count": 76,
      "outputs": []
    },
    {
      "cell_type": "code",
      "source": [
        "#for i in geneind:\n",
        "\n",
        "from matplotlib.ticker import (MultipleLocator, FormatStrFormatter,\n",
        "                               AutoMinorLocator)\n",
        "import random\n",
        "from matplotlib import cm\n",
        "\n",
        "X, t = getXtheo(vlm,geneind,meta)\n",
        "#Add jitter\n",
        "X[:,1] = X[:,1] + np.random.normal(0,0.5,X.shape[0])\n",
        "X[vlm.ca['celltype'] == 3,1] = -1*X[vlm.ca['celltype'] == 3,1]\n",
        "\n",
        "\n",
        "fig, ax = plt.subplots(nrows = 1, ncols = 1, figsize=(8,3))\n",
        "names = ['Cell Group '+str(i) for i in vlm.ca['celltype']]\n",
        "sns.scatterplot(t,X[:,1] + 5,hue=pd.Categorical(names),alpha=0.7,palette=sns.color_palette(\"rocket\")[::-1][0:4])\n",
        "\n",
        "# ---- Figure aesthetics ---\n",
        "handles, labels = plt.gca().get_legend_handles_labels()\n",
        "by_label = dict(zip(labels, handles))\n",
        "ax.legend(by_label.values(), by_label.keys(),loc='center left',bbox_to_anchor=(1, 0.5),prop={'size': 10},frameon=False,ncol=1)\n",
        "\n",
        "# Hide the right and top spines\n",
        "ax.spines['right'].set_visible(False)\n",
        "ax.spines['top'].set_visible(False)\n",
        "\n",
        "ax.set_xlabel('Sampled Process Times (t)',fontsize=12)\n",
        "ax.set_ylabel('Expression (a.u.)',fontsize=12)\n",
        "\n",
        "\n",
        "samp = random.sample(list(t),int(len(t)/5))\n",
        "\n",
        "ax.xaxis.set_minor_locator(matplotlib.ticker.FixedLocator(samp))\n",
        "\n",
        "# We change the fontsize of minor ticks label \n",
        "ax.tick_params(axis='both', which='major', labelsize=12)\n",
        "ax.tick_params(axis='both', which='minor', size=3, direction='in')\n",
        "\n",
        "fig.tight_layout()\n",
        "plt.savefig('observedTimes.pdf')"
      ],
      "metadata": {
        "colab": {
          "base_uri": "https://localhost:8080/",
          "height": 225
        },
        "id": "phtNYtgQ9ARc",
        "outputId": "d3877098-f3e2-4582-8573-12932f47a0d0"
      },
      "execution_count": 145,
      "outputs": [
        {
          "output_type": "display_data",
          "data": {
            "image/png": "[encoded data removed]",
            "text/plain": [
              "<Figure size 576x216 with 1 Axes>"
            ]
          },
          "metadata": {
            "needs_background": "light"
          }
        }
      ]
    },
    {
      "cell_type": "markdown",
      "source": [
        "Make pseudotime image for cells"
      ],
      "metadata": {
        "id": "qMNE5USSMHjn"
      }
    },
    {
      "cell_type": "code",
      "source": [
        "#Find min time and 'root' cell\n",
        "\n",
        "m = X[t==np.min(t),1]\n",
        "\n",
        "#Get euclidean distance of all cells from that cell\n",
        "dists = (X[:,1]-m)**2\n",
        "dists.shape"
      ],
      "metadata": {
        "colab": {
          "base_uri": "https://localhost:8080/"
        },
        "id": "aEHxjtDvH_Bf",
        "outputId": "6b4802e3-6164-4be2-e6de-039d423bd4f0"
      },
      "execution_count": 150,
      "outputs": [
        {
          "output_type": "execute_result",
          "data": {
            "text/plain": [
              "(2000,)"
            ]
          },
          "metadata": {},
          "execution_count": 150
        }
      ]
    },
    {
      "cell_type": "code",
      "source": [
        "dists = (dists-np.min(dists))/np.max(dists) #0 to 1 like pseudotime"
      ],
      "metadata": {
        "id": "18NGI6KBNglg"
      },
      "execution_count": 153,
      "outputs": []
    },
    {
      "cell_type": "code",
      "source": [
        "fig, ax = plt.subplots(nrows = 1, ncols = 1, figsize=(8,1.5))\n",
        "names = ['Cell Group '+str(i) for i in vlm.ca['celltype']]\n",
        "ys = [0]*len(names) + np.random.normal(0,0.05,len(names))\n",
        "sns.scatterplot(dists + np.random.normal(0,0.02,len(names))**2,\n",
        "                vlm.ca['celltype'],hue=pd.Categorical(names),\n",
        "                alpha=0.7,palette=sns.color_palette(\"rocket\")[::-1][0:4],\n",
        "                s=70)\n",
        "\n",
        "\n",
        "# ---- Figure aesthetics ---\n",
        "\n",
        "handles, labels = plt.gca().get_legend_handles_labels()\n",
        "by_label = dict(zip(labels, handles))\n",
        "ax.legend(by_label.values(), by_label.keys(),loc='center left',bbox_to_anchor=(1, 0.5),prop={'size': 10},frameon=False,ncol=1)\n",
        "\n",
        "# Hide the right and top spines\n",
        "ax.spines['right'].set_visible(False)\n",
        "ax.spines['top'].set_visible(False)\n",
        "\n",
        "ax.set_xlabel('Pseudotime',fontsize=12)\n",
        "\n",
        "\n",
        "fig.tight_layout()\n",
        "plt.savefig('pseudotime.pdf')"
      ],
      "metadata": {
        "colab": {
          "base_uri": "https://localhost:8080/",
          "height": 122
        },
        "id": "Zee5slTqJ06C",
        "outputId": "0d54ffa8-eb9e-49b3-edfd-118034fbfcfb"
      },
      "execution_count": 195,
      "outputs": [
        {
          "output_type": "display_data",
          "data": {
            "image/png": "[encoded data removed]",
            "text/plain": [
              "<Figure size 576x108 with 1 Axes>"
            ]
          },
          "metadata": {
            "needs_background": "light"
          }
        }
      ]
    },
    {
      "cell_type": "code",
      "source": [
        ""
      ],
      "metadata": {
        "id": "0N1nbnKWM0Qj"
      },
      "execution_count": null,
      "outputs": []
    }
  ],
  "metadata": {
    "colab": {
      "collapsed_sections": [],
      "name": "abcd_sim.ipynb",
      "provenance": [],
      "include_colab_link": true
    },
    "kernelspec": {
      "display_name": "Python 3",
      "language": "python",
      "name": "python3"
    },
    "language_info": {
      "codemirror_mode": {
        "name": "ipython",
        "version": 3
      },
      "file_extension": ".py",
      "mimetype": "text/x-python",
      "name": "python",
      "nbconvert_exporter": "python",
      "pygments_lexer": "ipython3",
      "version": "3.7.4"
    }
  },
  "nbformat": 4,
  "nbformat_minor": 0
}