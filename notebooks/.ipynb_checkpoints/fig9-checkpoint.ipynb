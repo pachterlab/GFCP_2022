{
 "cells": [
  {
   "cell_type": "markdown",
   "id": "unusual-burton",
   "metadata": {},
   "source": [
    "# Dependencies"
   ]
  },
  {
   "cell_type": "code",
   "execution_count": 1,
   "id": "standing-mission",
   "metadata": {},
   "outputs": [],
   "source": [
    "## uncomment this cell if run in colab ##\n",
    "\n",
    "#%%capture\n",
    "#pip install --upgrade git+https://github.com/meichenfang/velocyto.py.git\n",
    "#pip install scanpy umap-learn\n",
    "\n",
    "#!git clone https://github.com/pachterlab/GFCP_2021.git\n",
    "#!cd GFCP_2021\n",
    "#from vis import * "
   ]
  },
  {
   "cell_type": "code",
   "execution_count": 2,
   "id": "distant-shower",
   "metadata": {},
   "outputs": [
    {
     "name": "stdout",
     "output_type": "stream",
     "text": [
      "/Users/fang/OneDrive - California Institute of Technology/Caltech/Research/Pachter/RNA velocity/What_is_RNA_velocity/GFCP_2021\n"
     ]
    },
    {
     "name": "stderr",
     "output_type": "stream",
     "text": [
      "In /Users/fang/opt/anaconda3/lib/python3.7/site-packages/matplotlib/mpl-data/stylelib/_classic_test.mplstyle: \n",
      "The text.latex.preview rcparam was deprecated in Matplotlib 3.3 and will be removed two minor releases later.\n",
      "In /Users/fang/opt/anaconda3/lib/python3.7/site-packages/matplotlib/mpl-data/stylelib/_classic_test.mplstyle: \n",
      "The mathtext.fallback_to_cm rcparam was deprecated in Matplotlib 3.3 and will be removed two minor releases later.\n",
      "In /Users/fang/opt/anaconda3/lib/python3.7/site-packages/matplotlib/mpl-data/stylelib/_classic_test.mplstyle: Support for setting the 'mathtext.fallback_to_cm' rcParam is deprecated since 3.3 and will be removed two minor releases later; use 'mathtext.fallback : 'cm' instead.\n",
      "In /Users/fang/opt/anaconda3/lib/python3.7/site-packages/matplotlib/mpl-data/stylelib/_classic_test.mplstyle: \n",
      "The validate_bool_maybe_none function was deprecated in Matplotlib 3.3 and will be removed two minor releases later.\n",
      "In /Users/fang/opt/anaconda3/lib/python3.7/site-packages/matplotlib/mpl-data/stylelib/_classic_test.mplstyle: \n",
      "The savefig.jpeg_quality rcparam was deprecated in Matplotlib 3.3 and will be removed two minor releases later.\n",
      "In /Users/fang/opt/anaconda3/lib/python3.7/site-packages/matplotlib/mpl-data/stylelib/_classic_test.mplstyle: \n",
      "The keymap.all_axes rcparam was deprecated in Matplotlib 3.3 and will be removed two minor releases later.\n",
      "In /Users/fang/opt/anaconda3/lib/python3.7/site-packages/matplotlib/mpl-data/stylelib/_classic_test.mplstyle: \n",
      "The animation.avconv_path rcparam was deprecated in Matplotlib 3.3 and will be removed two minor releases later.\n",
      "In /Users/fang/opt/anaconda3/lib/python3.7/site-packages/matplotlib/mpl-data/stylelib/_classic_test.mplstyle: \n",
      "The animation.avconv_args rcparam was deprecated in Matplotlib 3.3 and will be removed two minor releases later.\n"
     ]
    },
    {
     "name": "stdout",
     "output_type": "stream",
     "text": [
      "/Users/fang/OneDrive - California Institute of Technology/Caltech/Research/Pachter/RNA velocity/What_is_RNA_velocity/GFCP_2021/notebooks\n"
     ]
    }
   ],
   "source": [
    "## run locally ##\n",
    "%cd ../../GFCP_2021\n",
    "from vis import * \n",
    "%cd notebooks"
   ]
  },
  {
   "cell_type": "markdown",
   "id": "sixth-triangle",
   "metadata": {},
   "source": [
    "# Load data and preprocess"
   ]
  },
  {
   "cell_type": "code",
   "execution_count": 3,
   "id": "focal-siemens",
   "metadata": {},
   "outputs": [],
   "source": [
    "vlm = vcy.VelocytoLoom(loom_filepath=\"data/hgForebrainGlut.loom\")\n",
    "preprocess(vlm)"
   ]
  },
  {
   "cell_type": "markdown",
   "id": "effective-shark",
   "metadata": {},
   "source": [
    "# Generate figure 9"
   ]
  },
  {
   "cell_type": "code",
   "execution_count": null,
   "id": "electric-distinction",
   "metadata": {},
   "outputs": [],
   "source": [
    "fig = plt.figure(figsize=(12,12))\n",
    "ax=[]\n",
    "ax.append(plt.subplot2grid((3, 2), (0, 0), rowspan=2, colspan=2))\n",
    "ax.append(plt.subplot2grid((3, 2), (2, 0)))\n",
    "ax.append(plt.subplot2grid((3, 2), (2, 1)))\n",
    "gridArrowPlots(vlm,Trans=[\"sqrt\",\"bool\"],embed=\"PCA\",sim=False,ax=ax[0],quiver_scale=10,legend=True)\n",
    "gridArrowPlots(vlm,Trans=[\"sqrt\",\"bool\"],embed=\"UMAP\",sim=False,ax=ax[1],quiver_scale=10,legend=False)\n",
    "gridArrowPlots(vlm,Trans=[\"sqrt\",\"bool\"],embed=\"tSNE\",sim=False,ax=ax[2],quiver_scale=10,legend=False)\n",
    "fig.tight_layout()"
   ]
  },
  {
   "cell_type": "code",
   "execution_count": null,
   "id": "inclusive-court",
   "metadata": {},
   "outputs": [],
   "source": [
    "fig.savefig('../figure/figure_9.png',dpi=600)"
   ]
  },
  {
   "cell_type": "code",
   "execution_count": null,
   "id": "desirable-watershed",
   "metadata": {},
   "outputs": [],
   "source": []
  }
 ],
 "metadata": {
  "kernelspec": {
   "display_name": "Python 3",
   "language": "python",
   "name": "python3"
  },
  "language_info": {
   "codemirror_mode": {
    "name": "ipython",
    "version": 3
   },
   "file_extension": ".py",
   "mimetype": "text/x-python",
   "name": "python",
   "nbconvert_exporter": "python",
   "pygments_lexer": "ipython3",
   "version": "3.7.4"
  }
 },
 "nbformat": 4,
 "nbformat_minor": 5
}
